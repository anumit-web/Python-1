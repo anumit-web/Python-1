{
  "nbformat": 4,
  "nbformat_minor": 0,
  "metadata": {
    "colab": {
      "provenance": []
    },
    "kernelspec": {
      "name": "python3",
      "display_name": "Python 3"
    },
    "language_info": {
      "name": "python"
    }
  },
  "cells": [
    {
      "cell_type": "markdown",
      "source": [
        "# Python Coding\n",
        "## python programming language"
      ],
      "metadata": {
        "id": "qtelLLBDDk_3"
      }
    },
    {
      "cell_type": "code",
      "execution_count": null,
      "metadata": {
        "colab": {
          "base_uri": "https://localhost:8080/"
        },
        "id": "EBbO1Tx7DhOz",
        "outputId": "66db6a45-56e2-4f0d-f7f8-93d0bdb73524"
      },
      "outputs": [
        {
          "output_type": "stream",
          "name": "stdout",
          "text": [
            "Hello World!\n"
          ]
        }
      ],
      "source": [
        "print(\"Hello World!\")"
      ]
    },
    {
      "cell_type": "code",
      "source": [
        "first_name = \"Alan\"\n",
        "middle_init = \"C\"\n",
        "last_name = \"Simpson\"\n",
        "full_name = first_name + middle_init + last_name\n",
        "print(full_name)\n",
        "full_name = first_name + \" \" + middle_init + \". \" + last_name\n",
        "print(full_name)"
      ],
      "metadata": {
        "colab": {
          "base_uri": "https://localhost:8080/"
        },
        "id": "SbngJgZg7UED",
        "outputId": "47b28afd-a683-4bcf-bf25-14bb5d97ad04"
      },
      "execution_count": null,
      "outputs": [
        {
          "output_type": "stream",
          "name": "stdout",
          "text": [
            "AlanCSimpson\n",
            "Alan C. Simpson\n"
          ]
        }
      ]
    },
    {
      "cell_type": "code",
      "source": [
        "string1 = \"Hot Dog\"\n",
        "print(string1.capitalize())\n",
        "print(string1.lower())\n",
        "print(string1.upper())\n",
        "print(string1.index(\"o\")) # 0 based index\n",
        "print(string1.find(\"ot\"))\n",
        "print(string1)\n",
        "print(\"Alpha = \", string1.isalpha())\n",
        "print(string1.islower())"
      ],
      "metadata": {
        "colab": {
          "base_uri": "https://localhost:8080/"
        },
        "id": "YWLVD_Ur78ZU",
        "outputId": "caf72b8c-28e8-494e-ceee-b6afefc31880"
      },
      "execution_count": null,
      "outputs": [
        {
          "output_type": "stream",
          "name": "stdout",
          "text": [
            "Hot dog\n",
            "hot dog\n",
            "HOT DOG\n",
            "1\n",
            "1\n",
            "Hot Dog\n",
            "Alpha =  False\n",
            "False\n"
          ]
        }
      ]
    }
  ]
}