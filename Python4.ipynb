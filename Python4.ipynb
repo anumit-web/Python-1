{
  "nbformat": 4,
  "nbformat_minor": 0,
  "metadata": {
    "colab": {
      "provenance": []
    },
    "kernelspec": {
      "name": "python3",
      "display_name": "Python 3"
    },
    "language_info": {
      "name": "python"
    }
  },
  "cells": [
    {
      "cell_type": "markdown",
      "source": [
        "# Python Coding\n",
        "## python programming language"
      ],
      "metadata": {
        "id": "qtelLLBDDk_3"
      }
    },
    {
      "cell_type": "markdown",
      "source": [
        "# Dates and times"
      ],
      "metadata": {
        "id": "lS_CkOSn_hkT"
      }
    },
    {
      "cell_type": "code",
      "execution_count": 46,
      "metadata": {
        "colab": {
          "base_uri": "https://localhost:8080/"
        },
        "id": "EBbO1Tx7DhOz",
        "outputId": "a96267c5-c12d-47cc-e1e0-50e4517f6bf9"
      },
      "outputs": [
        {
          "output_type": "stream",
          "name": "stdout",
          "text": [
            "Hello World!\n"
          ]
        }
      ],
      "source": [
        "print(\"Hello World!\")"
      ]
    },
    {
      "cell_type": "code",
      "source": [
        "import datetime as dt"
      ],
      "metadata": {
        "id": "8PpcN7hWAL4T"
      },
      "execution_count": 47,
      "outputs": []
    },
    {
      "cell_type": "code",
      "source": [
        "today = dt.date.today()\n",
        "today"
      ],
      "metadata": {
        "colab": {
          "base_uri": "https://localhost:8080/"
        },
        "id": "fmapESQ8AN1m",
        "outputId": "a295f3fa-e481-4b3e-d8b8-688f7cc0292c"
      },
      "execution_count": 48,
      "outputs": [
        {
          "output_type": "execute_result",
          "data": {
            "text/plain": [
              "datetime.date(2025, 2, 1)"
            ]
          },
          "metadata": {},
          "execution_count": 48
        }
      ]
    },
    {
      "cell_type": "code",
      "source": [
        "print(today.year)\n",
        "print(today.month)\n",
        "print(today.day)"
      ],
      "metadata": {
        "colab": {
          "base_uri": "https://localhost:8080/"
        },
        "id": "wr1lQkvQA0m3",
        "outputId": "13cb22ba-90b4-44bc-d37d-6e42cf0882a3"
      },
      "execution_count": 49,
      "outputs": [
        {
          "output_type": "stream",
          "name": "stdout",
          "text": [
            "2025\n",
            "2\n",
            "1\n"
          ]
        }
      ]
    },
    {
      "cell_type": "code",
      "source": [
        "import datetime\n",
        "print(f\"today:{datetime.datetime.now():%A, %B %d, %Y}\")"
      ],
      "metadata": {
        "colab": {
          "base_uri": "https://localhost:8080/"
        },
        "id": "q0waWHqFBbFc",
        "outputId": "1120843b-7dac-4187-b12a-2a78750a1e25"
      },
      "execution_count": 50,
      "outputs": [
        {
          "output_type": "stream",
          "name": "stdout",
          "text": [
            "today:Saturday, February 01, 2025\n"
          ]
        }
      ]
    },
    {
      "cell_type": "code",
      "source": [
        "right_now = dt.datetime.now()\n",
        "print(right_now)"
      ],
      "metadata": {
        "colab": {
          "base_uri": "https://localhost:8080/"
        },
        "id": "6DZV6Yt7HhTb",
        "outputId": "d201cac0-6940-4926-8aba-62e26d373737"
      },
      "execution_count": 51,
      "outputs": [
        {
          "output_type": "stream",
          "name": "stdout",
          "text": [
            "2025-02-01 10:55:42.996910\n"
          ]
        }
      ]
    },
    {
      "cell_type": "code",
      "source": [
        "new_years_eve = dt.datetime(2024, 12, 31, 23, 59)\n",
        "print(new_years_eve)"
      ],
      "metadata": {
        "colab": {
          "base_uri": "https://localhost:8080/"
        },
        "id": "GnVc1OYxHzmZ",
        "outputId": "a7611678-3fb0-429f-b096-9edf78810284"
      },
      "execution_count": 52,
      "outputs": [
        {
          "output_type": "stream",
          "name": "stdout",
          "text": [
            "2024-12-31 23:59:00\n"
          ]
        }
      ]
    },
    {
      "cell_type": "code",
      "source": [
        "new_years_day = dt.date(2024, 1, 1)\n",
        "memorial_day = dt.date(2024, 5, 27)\n",
        "days_between = memorial_day - new_years_day\n",
        "print(days_between)\n",
        "print(type(days_between))"
      ],
      "metadata": {
        "colab": {
          "base_uri": "https://localhost:8080/"
        },
        "id": "NWZPJ4BqIGKb",
        "outputId": "2e36eac3-d117-4368-c91d-cfd813f9f0bf"
      },
      "execution_count": 53,
      "outputs": [
        {
          "output_type": "stream",
          "name": "stdout",
          "text": [
            "147 days, 0:00:00\n",
            "<class 'datetime.timedelta'>\n"
          ]
        }
      ]
    },
    {
      "cell_type": "code",
      "source": [
        "print(days_between.days)\n",
        "print(days_between.total_seconds())"
      ],
      "metadata": {
        "colab": {
          "base_uri": "https://localhost:8080/"
        },
        "id": "lWOsn4HeJAaT",
        "outputId": "2a34b915-0397-46a3-d738-1d6499f66d80"
      },
      "execution_count": 54,
      "outputs": [
        {
          "output_type": "stream",
          "name": "stdout",
          "text": [
            "147\n",
            "12700800.0\n"
          ]
        }
      ]
    }
  ]
}