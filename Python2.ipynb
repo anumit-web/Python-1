{
  "nbformat": 4,
  "nbformat_minor": 0,
  "metadata": {
    "colab": {
      "provenance": []
    },
    "kernelspec": {
      "name": "python3",
      "display_name": "Python 3"
    },
    "language_info": {
      "name": "python"
    }
  },
  "cells": [
    {
      "cell_type": "markdown",
      "source": [
        "# Python Coding\n",
        "## python programming language"
      ],
      "metadata": {
        "id": "qtelLLBDDk_3"
      }
    },
    {
      "cell_type": "code",
      "execution_count": 5,
      "metadata": {
        "colab": {
          "base_uri": "https://localhost:8080/"
        },
        "id": "EBbO1Tx7DhOz",
        "outputId": "511f3e18-166e-4610-b22d-f12c95f17167"
      },
      "outputs": [
        {
          "output_type": "stream",
          "name": "stdout",
          "text": [
            "Hello World!\n"
          ]
        }
      ],
      "source": [
        "print(\"Hello World!\")"
      ]
    },
    {
      "cell_type": "code",
      "source": [
        "x = 10\n",
        "\n",
        "if x == 0:\n",
        "    print(\"x is zero\")\n",
        "else:\n",
        "    print(\"x is\",x)\n",
        "\n",
        "print(\"All done\")"
      ],
      "metadata": {
        "colab": {
          "base_uri": "https://localhost:8080/"
        },
        "id": "AlR1LY4kcV3C",
        "outputId": "37b15a95-abea-4fc5-b5b0-e2937ecc461c"
      },
      "execution_count": 6,
      "outputs": [
        {
          "output_type": "stream",
          "name": "stdout",
          "text": [
            "x is 10\n",
            "All done\n"
          ]
        }
      ]
    },
    {
      "cell_type": "code",
      "source": [
        "x = -4\n",
        "y =abs(x)\n",
        "print(x)\n",
        "print(y)"
      ],
      "metadata": {
        "colab": {
          "base_uri": "https://localhost:8080/"
        },
        "id": "YOhpfkUZcazO",
        "outputId": "5dfadb5d-1bbf-420b-8b9f-bd1b8d937b27"
      },
      "execution_count": 7,
      "outputs": [
        {
          "output_type": "stream",
          "name": "stdout",
          "text": [
            "-4\n",
            "4\n"
          ]
        }
      ]
    },
    {
      "cell_type": "code",
      "source": [],
      "metadata": {
        "id": "j8TU239MdO7a"
      },
      "execution_count": null,
      "outputs": []
    }
  ]
}