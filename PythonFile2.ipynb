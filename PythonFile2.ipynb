{
  "nbformat": 4,
  "nbformat_minor": 0,
  "metadata": {
    "colab": {
      "provenance": []
    },
    "kernelspec": {
      "name": "python3",
      "display_name": "Python 3"
    },
    "language_info": {
      "name": "python"
    }
  },
  "cells": [
    {
      "cell_type": "markdown",
      "source": [
        "# Python Coding\n",
        "## python programming language"
      ],
      "metadata": {
        "id": "qtelLLBDDk_3"
      }
    },
    {
      "cell_type": "markdown",
      "source": [
        "# Dates and times"
      ],
      "metadata": {
        "id": "lS_CkOSn_hkT"
      }
    },
    {
      "cell_type": "code",
      "source": [
        "print(\"Hello, World!\")"
      ],
      "metadata": {
        "id": "INDScvAl_nBs",
        "colab": {
          "base_uri": "https://localhost:8080/"
        },
        "outputId": "4f9af2d6-3129-416c-ff0a-cb461ecfaf89"
      },
      "execution_count": 10,
      "outputs": [
        {
          "output_type": "stream",
          "name": "stdout",
          "text": [
            "Hello, World!\n"
          ]
        }
      ]
    },
    {
      "cell_type": "code",
      "source": [
        "print('Python is powerful')\n",
        "\n",
        "# Output: Python is powerful"
      ],
      "metadata": {
        "id": "CqV4EF0eIyWy",
        "colab": {
          "base_uri": "https://localhost:8080/"
        },
        "outputId": "d38303a7-da5e-4f41-e295-41c5847eac18"
      },
      "execution_count": 11,
      "outputs": [
        {
          "output_type": "stream",
          "name": "stdout",
          "text": [
            "Python is powerful\n"
          ]
        }
      ]
    },
    {
      "cell_type": "code",
      "source": [
        "print('Good Morning!')\n",
        "print('It is rainy today')"
      ],
      "metadata": {
        "id": "6WEBBaPlI57f",
        "colab": {
          "base_uri": "https://localhost:8080/"
        },
        "outputId": "abe41203-0106-4236-b113-5618676e4ed9"
      },
      "execution_count": 12,
      "outputs": [
        {
          "output_type": "stream",
          "name": "stdout",
          "text": [
            "Good Morning!\n",
            "It is rainy today\n"
          ]
        }
      ]
    },
    {
      "cell_type": "code",
      "source": [
        "# print with end whitespace\n",
        "print('Good Morning!', end= ' ')\n",
        "\n",
        "print('It is rainy today')"
      ],
      "metadata": {
        "id": "qVswqol9JJwR",
        "colab": {
          "base_uri": "https://localhost:8080/"
        },
        "outputId": "7d338799-6aa5-4a8b-f37b-b331ded79b1d"
      },
      "execution_count": 13,
      "outputs": [
        {
          "output_type": "stream",
          "name": "stdout",
          "text": [
            "Good Morning! It is rainy today\n"
          ]
        }
      ]
    },
    {
      "cell_type": "code",
      "source": [
        "# print with end whitespace\n",
        "print('Good Morning!', end= '###')\n",
        "\n",
        "print('It is rainy today')"
      ],
      "metadata": {
        "id": "3cuWvAL3JM6G",
        "colab": {
          "base_uri": "https://localhost:8080/"
        },
        "outputId": "3aba0713-d88c-43c1-fd11-460d970fd3cd"
      },
      "execution_count": 14,
      "outputs": [
        {
          "output_type": "stream",
          "name": "stdout",
          "text": [
            "Good Morning!###It is rainy today\n"
          ]
        }
      ]
    },
    {
      "cell_type": "code",
      "source": [
        "# print with end whitespace\n",
        "print('Good Morning!', end= '\\n')\n",
        "\n",
        "print('It is rainy today')"
      ],
      "metadata": {
        "id": "zt6yOg3AJlli",
        "colab": {
          "base_uri": "https://localhost:8080/"
        },
        "outputId": "29fe62a5-6812-4e47-ee64-48bbbcfa91ca"
      },
      "execution_count": 15,
      "outputs": [
        {
          "output_type": "stream",
          "name": "stdout",
          "text": [
            "Good Morning!\n",
            "It is rainy today\n"
          ]
        }
      ]
    },
    {
      "cell_type": "code",
      "source": [
        "number = -10.6\n",
        "\n",
        "name = \"Programiz\"\n",
        "\n",
        "# print literals\n",
        "print(5)\n",
        "\n",
        "# print variables\n",
        "print(number)\n",
        "print(name)"
      ],
      "metadata": {
        "id": "kG5K5m5jJxLM",
        "colab": {
          "base_uri": "https://localhost:8080/"
        },
        "outputId": "144dda0d-941c-48b8-ea91-48b5821d79b5"
      },
      "execution_count": 16,
      "outputs": [
        {
          "output_type": "stream",
          "name": "stdout",
          "text": [
            "5\n",
            "-10.6\n",
            "Programiz\n"
          ]
        }
      ]
    },
    {
      "cell_type": "code",
      "source": [
        "print('Programiz is ' + 'awesome.')"
      ],
      "metadata": {
        "id": "E3da_wXiMruE",
        "colab": {
          "base_uri": "https://localhost:8080/"
        },
        "outputId": "c52efbb3-ba76-4f9c-95e0-3f6a82e07901"
      },
      "execution_count": 17,
      "outputs": [
        {
          "output_type": "stream",
          "name": "stdout",
          "text": [
            "Programiz is awesome.\n"
          ]
        }
      ]
    },
    {
      "cell_type": "code",
      "source": [
        "print('Programiz is ', 'awesome.')"
      ],
      "metadata": {
        "id": "m6TERwejNPdt",
        "colab": {
          "base_uri": "https://localhost:8080/"
        },
        "outputId": "aee3c4ab-8479-4c3b-aeb9-fd9357dd5c8e"
      },
      "execution_count": 18,
      "outputs": [
        {
          "output_type": "stream",
          "name": "stdout",
          "text": [
            "Programiz is  awesome.\n"
          ]
        }
      ]
    }
  ]
}