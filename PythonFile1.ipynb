{
  "nbformat": 4,
  "nbformat_minor": 0,
  "metadata": {
    "colab": {
      "provenance": []
    },
    "kernelspec": {
      "name": "python3",
      "display_name": "Python 3"
    },
    "language_info": {
      "name": "python"
    }
  },
  "cells": [
    {
      "cell_type": "markdown",
      "source": [
        "# Python Coding\n",
        "## python programming language"
      ],
      "metadata": {
        "id": "qtelLLBDDk_3"
      }
    },
    {
      "cell_type": "markdown",
      "source": [
        "# Dates and times"
      ],
      "metadata": {
        "id": "lS_CkOSn_hkT"
      }
    },
    {
      "cell_type": "code",
      "source": [
        "print(\"Hello, World!\")"
      ],
      "metadata": {
        "colab": {
          "base_uri": "https://localhost:8080/"
        },
        "id": "INDScvAl_nBs",
        "outputId": "d2352e3d-5106-42fc-c7ef-2d2d0904fc78"
      },
      "execution_count": 27,
      "outputs": [
        {
          "output_type": "stream",
          "name": "stdout",
          "text": [
            "Hello, World!\n"
          ]
        }
      ]
    },
    {
      "cell_type": "code",
      "source": [
        "# print a number\n",
        "print(25)"
      ],
      "metadata": {
        "colab": {
          "base_uri": "https://localhost:8080/"
        },
        "id": "dO-ieyrv_3fm",
        "outputId": "ea20b316-812f-4799-bab6-a52e202c2c30"
      },
      "execution_count": 28,
      "outputs": [
        {
          "output_type": "stream",
          "name": "stdout",
          "text": [
            "25\n"
          ]
        }
      ]
    },
    {
      "cell_type": "code",
      "source": [
        "# This is an example of a multiline comment\n",
        "# created using multiple single-line commenced\n",
        "# The code prints the text Hello World\n",
        "print(\"Hello, World!\")"
      ],
      "metadata": {
        "colab": {
          "base_uri": "https://localhost:8080/"
        },
        "id": "PE9e99URACDe",
        "outputId": "c4b9a969-5cdf-4c63-8481-4c1aa3b4ca13"
      },
      "execution_count": 29,
      "outputs": [
        {
          "output_type": "stream",
          "name": "stdout",
          "text": [
            "Hello, World!\n"
          ]
        }
      ]
    },
    {
      "cell_type": "code",
      "source": [
        "'''This is an example\n",
        "of multiline comment'''\n",
        "print(\"Hello, World!\")"
      ],
      "metadata": {
        "colab": {
          "base_uri": "https://localhost:8080/"
        },
        "id": "HsxoCiWiAIc6",
        "outputId": "9de9d070-3376-4e34-ce01-5e01d9a48939"
      },
      "execution_count": 30,
      "outputs": [
        {
          "output_type": "stream",
          "name": "stdout",
          "text": [
            "Hello, World!\n"
          ]
        }
      ]
    },
    {
      "cell_type": "code",
      "source": [
        "number1 = 10\n",
        "number2 = 15\n",
        "\n",
        "sum = number1 + number2\n",
        "\n",
        "print(\"The sum is:\", sum)\n",
        "# print('The product is:', product)"
      ],
      "metadata": {
        "id": "lHPxC0w4AdnP",
        "outputId": "967c99b6-6242-449f-ba5f-f4e689c931dd",
        "colab": {
          "base_uri": "https://localhost:8080/"
        }
      },
      "execution_count": 31,
      "outputs": [
        {
          "output_type": "stream",
          "name": "stdout",
          "text": [
            "The sum is: 25\n"
          ]
        }
      ]
    },
    {
      "cell_type": "code",
      "source": [
        "# assign value to site_name variable\n",
        "site_name = 'programiz.pro'\n",
        "\n",
        "print(site_name)\n",
        "\n",
        "# Output: programiz.pro"
      ],
      "metadata": {
        "colab": {
          "base_uri": "https://localhost:8080/"
        },
        "id": "wRHkVKrbDCkV",
        "outputId": "4e15b205-b939-40f1-c191-ea674a0e654a"
      },
      "execution_count": 32,
      "outputs": [
        {
          "output_type": "stream",
          "name": "stdout",
          "text": [
            "programiz.pro\n"
          ]
        }
      ]
    },
    {
      "cell_type": "code",
      "source": [
        "site_name = 'programiz.pro'\n",
        "print(site_name)\n",
        "\n",
        "# assigning a new value to site_name\n",
        "site_name = 'apple.com'\n",
        "\n",
        "print(site_name)"
      ],
      "metadata": {
        "colab": {
          "base_uri": "https://localhost:8080/"
        },
        "id": "kPOSUrRADuam",
        "outputId": "9640be8e-ec92-4591-b452-a1cdc91e59ba"
      },
      "execution_count": 33,
      "outputs": [
        {
          "output_type": "stream",
          "name": "stdout",
          "text": [
            "programiz.pro\n",
            "apple.com\n"
          ]
        }
      ]
    }
  ]
}